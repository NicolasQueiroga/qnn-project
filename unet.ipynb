{
 "cells": [
  {
   "cell_type": "code",
   "execution_count": 1,
   "metadata": {},
   "outputs": [],
   "source": [
    "import torch\n",
    "import torch.nn as nn"
   ]
  },
  {
   "cell_type": "code",
   "execution_count": 2,
   "metadata": {},
   "outputs": [],
   "source": [
    "def double_convolution(in_channels, out_channels):\n",
    "    conv_op = nn.Sequential(\n",
    "        nn.Conv2d(in_channels, out_channels, kernel_size=3, padding=1),\n",
    "        nn.ReLU(inplace=True),\n",
    "        nn.Conv2d(out_channels, out_channels, kernel_size=3, padding=1),\n",
    "        nn.ReLU(inplace=True),\n",
    "    )\n",
    "    return conv_op"
   ]
  },
  {
   "cell_type": "code",
   "execution_count": 3,
   "metadata": {},
   "outputs": [],
   "source": [
    "class UNet(nn.Module):\n",
    "    def __init__(self, num_classes):\n",
    "        super(UNet, self).__init__()\n",
    "        self.max_pool2d = nn.MaxPool2d(kernel_size=2, stride=2)\n",
    "\n",
    "        # Contracting path.\n",
    "        # Each convolution is applied twice.\n",
    "        self.down_convolution_1 = double_convolution(3, 64)\n",
    "        self.down_convolution_2 = double_convolution(64, 128)\n",
    "        self.down_convolution_3 = double_convolution(128, 256)\n",
    "        self.down_convolution_4 = double_convolution(256, 512)\n",
    "        self.down_convolution_5 = double_convolution(512, 1024)\n",
    "\n",
    "        # Expanding path.\n",
    "        self.up_transpose_1 = nn.ConvTranspose2d(\n",
    "            in_channels=1024, out_channels=512, kernel_size=2, stride=2\n",
    "        )\n",
    "        self.up_convolution_1 = double_convolution(1024, 512)\n",
    "        self.up_transpose_2 = nn.ConvTranspose2d(\n",
    "            in_channels=512, out_channels=256, kernel_size=2, stride=2\n",
    "        )\n",
    "        self.up_convolution_2 = double_convolution(512, 256)\n",
    "        self.up_transpose_3 = nn.ConvTranspose2d(\n",
    "            in_channels=256, out_channels=128, kernel_size=2, stride=2\n",
    "        )\n",
    "        self.up_convolution_3 = double_convolution(256, 128)\n",
    "        self.up_transpose_4 = nn.ConvTranspose2d(\n",
    "            in_channels=128, out_channels=64, kernel_size=2, stride=2\n",
    "        )\n",
    "        self.up_convolution_4 = double_convolution(128, 64)\n",
    "\n",
    "        self.out = nn.Conv2d(in_channels=64, out_channels=num_classes, kernel_size=1)\n",
    "\n",
    "    def forward(self, x):\n",
    "        down_1 = self.down_convolution_1(x)\n",
    "        down_2 = self.max_pool2d(down_1)\n",
    "        down_3 = self.down_convolution_2(down_2)\n",
    "        down_4 = self.max_pool2d(down_3)\n",
    "        down_5 = self.down_convolution_3(down_4)\n",
    "        down_6 = self.max_pool2d(down_5)\n",
    "        down_7 = self.down_convolution_4(down_6)\n",
    "        down_8 = self.max_pool2d(down_7)\n",
    "        down_9 = self.down_convolution_5(down_8)\n",
    "\n",
    "        up_1 = self.up_transpose_1(down_9)\n",
    "        x = self.up_convolution_1(torch.cat([down_7, up_1], 1))\n",
    "        up_2 = self.up_transpose_2(x)\n",
    "        x = self.up_convolution_2(torch.cat([down_5, up_2], 1))\n",
    "        up_3 = self.up_transpose_3(x)\n",
    "        x = self.up_convolution_3(torch.cat([down_3, up_3], 1))\n",
    "        up_4 = self.up_transpose_4(x)\n",
    "        x = self.up_convolution_4(torch.cat([down_1, up_4], 1))\n",
    "        out = self.out(x)\n",
    "        return out"
   ]
  },
  {
   "cell_type": "code",
   "execution_count": 8,
   "metadata": {},
   "outputs": [
    {
     "name": "stdout",
     "output_type": "stream",
     "text": [
      "31,032,330 total parameters.\n",
      "31,032,330 training parameters.\n"
     ]
    },
    {
     "ename": "RuntimeError",
     "evalue": "Sizes of tensors must match except in dimension 1. Expected size 153 but got size 152 for tensor number 1 in the list.",
     "output_type": "error",
     "traceback": [
      "\u001b[0;31m---------------------------------------------------------------------------\u001b[0m",
      "\u001b[0;31mRuntimeError\u001b[0m                              Traceback (most recent call last)",
      "\u001b[1;32m/Users/nicolas/Documents/insper/8o/quantum/qnn-project/unet.ipynb Cell 4\u001b[0m line \u001b[0;36m7\n\u001b[1;32m      <a href='vscode-notebook-cell:/Users/nicolas/Documents/insper/8o/quantum/qnn-project/unet.ipynb#W3sZmlsZQ%3D%3D?line=4'>5</a>\u001b[0m total_trainable_params \u001b[39m=\u001b[39m \u001b[39msum\u001b[39m(p\u001b[39m.\u001b[39mnumel() \u001b[39mfor\u001b[39;00m p \u001b[39min\u001b[39;00m model\u001b[39m.\u001b[39mparameters() \u001b[39mif\u001b[39;00m p\u001b[39m.\u001b[39mrequires_grad)\n\u001b[1;32m      <a href='vscode-notebook-cell:/Users/nicolas/Documents/insper/8o/quantum/qnn-project/unet.ipynb#W3sZmlsZQ%3D%3D?line=5'>6</a>\u001b[0m \u001b[39mprint\u001b[39m(\u001b[39mf\u001b[39m\u001b[39m\"\u001b[39m\u001b[39m{\u001b[39;00mtotal_trainable_params\u001b[39m:\u001b[39;00m\u001b[39m,\u001b[39m\u001b[39m}\u001b[39;00m\u001b[39m training parameters.\u001b[39m\u001b[39m\"\u001b[39m)\n\u001b[0;32m----> <a href='vscode-notebook-cell:/Users/nicolas/Documents/insper/8o/quantum/qnn-project/unet.ipynb#W3sZmlsZQ%3D%3D?line=6'>7</a>\u001b[0m outputs \u001b[39m=\u001b[39m model(input_image)\n\u001b[1;32m      <a href='vscode-notebook-cell:/Users/nicolas/Documents/insper/8o/quantum/qnn-project/unet.ipynb#W3sZmlsZQ%3D%3D?line=7'>8</a>\u001b[0m \u001b[39mprint\u001b[39m(outputs\u001b[39m.\u001b[39mshape)\n",
      "File \u001b[0;32m~/Documents/insper/8o/quantum/qnn-project/venv/lib/python3.11/site-packages/torch/nn/modules/module.py:1501\u001b[0m, in \u001b[0;36mModule._call_impl\u001b[0;34m(self, *args, **kwargs)\u001b[0m\n\u001b[1;32m   1496\u001b[0m \u001b[39m# If we don't have any hooks, we want to skip the rest of the logic in\u001b[39;00m\n\u001b[1;32m   1497\u001b[0m \u001b[39m# this function, and just call forward.\u001b[39;00m\n\u001b[1;32m   1498\u001b[0m \u001b[39mif\u001b[39;00m \u001b[39mnot\u001b[39;00m (\u001b[39mself\u001b[39m\u001b[39m.\u001b[39m_backward_hooks \u001b[39mor\u001b[39;00m \u001b[39mself\u001b[39m\u001b[39m.\u001b[39m_backward_pre_hooks \u001b[39mor\u001b[39;00m \u001b[39mself\u001b[39m\u001b[39m.\u001b[39m_forward_hooks \u001b[39mor\u001b[39;00m \u001b[39mself\u001b[39m\u001b[39m.\u001b[39m_forward_pre_hooks\n\u001b[1;32m   1499\u001b[0m         \u001b[39mor\u001b[39;00m _global_backward_pre_hooks \u001b[39mor\u001b[39;00m _global_backward_hooks\n\u001b[1;32m   1500\u001b[0m         \u001b[39mor\u001b[39;00m _global_forward_hooks \u001b[39mor\u001b[39;00m _global_forward_pre_hooks):\n\u001b[0;32m-> 1501\u001b[0m     \u001b[39mreturn\u001b[39;00m forward_call(\u001b[39m*\u001b[39;49margs, \u001b[39m*\u001b[39;49m\u001b[39m*\u001b[39;49mkwargs)\n\u001b[1;32m   1502\u001b[0m \u001b[39m# Do not call functions when jit is used\u001b[39;00m\n\u001b[1;32m   1503\u001b[0m full_backward_hooks, non_full_backward_hooks \u001b[39m=\u001b[39m [], []\n",
      "\u001b[1;32m/Users/nicolas/Documents/insper/8o/quantum/qnn-project/unet.ipynb Cell 4\u001b[0m line \u001b[0;36m4\n\u001b[1;32m     <a href='vscode-notebook-cell:/Users/nicolas/Documents/insper/8o/quantum/qnn-project/unet.ipynb#W3sZmlsZQ%3D%3D?line=45'>46</a>\u001b[0m x \u001b[39m=\u001b[39m \u001b[39mself\u001b[39m\u001b[39m.\u001b[39mup_convolution_1(torch\u001b[39m.\u001b[39mcat([down_7, up_1], \u001b[39m1\u001b[39m))\n\u001b[1;32m     <a href='vscode-notebook-cell:/Users/nicolas/Documents/insper/8o/quantum/qnn-project/unet.ipynb#W3sZmlsZQ%3D%3D?line=46'>47</a>\u001b[0m up_2 \u001b[39m=\u001b[39m \u001b[39mself\u001b[39m\u001b[39m.\u001b[39mup_transpose_2(x)\n\u001b[0;32m---> <a href='vscode-notebook-cell:/Users/nicolas/Documents/insper/8o/quantum/qnn-project/unet.ipynb#W3sZmlsZQ%3D%3D?line=47'>48</a>\u001b[0m x \u001b[39m=\u001b[39m \u001b[39mself\u001b[39m\u001b[39m.\u001b[39mup_convolution_2(torch\u001b[39m.\u001b[39;49mcat([down_5, up_2], \u001b[39m1\u001b[39;49m))\n\u001b[1;32m     <a href='vscode-notebook-cell:/Users/nicolas/Documents/insper/8o/quantum/qnn-project/unet.ipynb#W3sZmlsZQ%3D%3D?line=48'>49</a>\u001b[0m up_3 \u001b[39m=\u001b[39m \u001b[39mself\u001b[39m\u001b[39m.\u001b[39mup_transpose_3(x)\n\u001b[1;32m     <a href='vscode-notebook-cell:/Users/nicolas/Documents/insper/8o/quantum/qnn-project/unet.ipynb#W3sZmlsZQ%3D%3D?line=49'>50</a>\u001b[0m x \u001b[39m=\u001b[39m \u001b[39mself\u001b[39m\u001b[39m.\u001b[39mup_convolution_3(torch\u001b[39m.\u001b[39mcat([down_3, up_3], \u001b[39m1\u001b[39m))\n",
      "\u001b[0;31mRuntimeError\u001b[0m: Sizes of tensors must match except in dimension 1. Expected size 153 but got size 152 for tensor number 1 in the list."
     ]
    }
   ],
   "source": [
    "input_image = torch.rand((1, 3, 612, 612))\n",
    "model = UNet(num_classes=10)\n",
    "total_params = sum(p.numel() for p in model.parameters())\n",
    "print(f\"{total_params:,} total parameters.\")\n",
    "total_trainable_params = sum(p.numel() for p in model.parameters() if p.requires_grad)\n",
    "print(f\"{total_trainable_params:,} training parameters.\")\n",
    "outputs = model(input_image)\n",
    "print(outputs.shape)"
   ]
  },
  {
   "cell_type": "code",
   "execution_count": null,
   "metadata": {},
   "outputs": [],
   "source": []
  }
 ],
 "metadata": {
  "kernelspec": {
   "display_name": "venv",
   "language": "python",
   "name": "python3"
  },
  "language_info": {
   "codemirror_mode": {
    "name": "ipython",
    "version": 3
   },
   "file_extension": ".py",
   "mimetype": "text/x-python",
   "name": "python",
   "nbconvert_exporter": "python",
   "pygments_lexer": "ipython3",
   "version": "3.11.3"
  },
  "orig_nbformat": 4
 },
 "nbformat": 4,
 "nbformat_minor": 2
}
