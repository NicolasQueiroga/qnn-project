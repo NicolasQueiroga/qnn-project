{
 "cells": [
  {
   "cell_type": "code",
   "execution_count": 1,
   "metadata": {},
   "outputs": [],
   "source": [
    "import torch\n",
    "import torch.nn as nn"
   ]
  },
  {
   "cell_type": "code",
   "execution_count": 2,
   "metadata": {},
   "outputs": [],
   "source": [
    "def double_convolution(in_channels, out_channels):\n",
    "    conv_op = nn.Sequential(\n",
    "        nn.Conv2d(in_channels, out_channels, kernel_size=3, padding=1),\n",
    "        nn.ReLU(inplace=True),\n",
    "        nn.Conv2d(out_channels, out_channels, kernel_size=3, padding=1),\n",
    "        nn.ReLU(inplace=True),\n",
    "    )\n",
    "    return conv_op"
   ]
  },
  {
   "cell_type": "code",
   "execution_count": 3,
   "metadata": {},
   "outputs": [],
   "source": [
    "class UNet(nn.Module):\n",
    "    def __init__(self, num_classes):\n",
    "        super(UNet, self).__init__()\n",
    "        self.max_pool2d = nn.MaxPool2d(kernel_size=2, stride=2)\n",
    "\n",
    "        # Contracting path.\n",
    "        # Each convolution is applied twice.\n",
    "        self.down_convolution_1 = double_convolution(3, 64)\n",
    "        self.down_convolution_2 = double_convolution(64, 128)\n",
    "        self.down_convolution_3 = double_convolution(128, 256)\n",
    "        self.down_convolution_4 = double_convolution(256, 512)\n",
    "        self.down_convolution_5 = double_convolution(512, 1024)\n",
    "\n",
    "        # Expanding path.\n",
    "        self.up_transpose_1 = nn.ConvTranspose2d(\n",
    "            in_channels=1024, out_channels=512, kernel_size=2, stride=2\n",
    "        )\n",
    "        self.up_convolution_1 = double_convolution(1024, 512)\n",
    "        self.up_transpose_2 = nn.ConvTranspose2d(\n",
    "            in_channels=512, out_channels=256, kernel_size=2, stride=2\n",
    "        )\n",
    "        self.up_convolution_2 = double_convolution(512, 256)\n",
    "        self.up_transpose_3 = nn.ConvTranspose2d(\n",
    "            in_channels=256, out_channels=128, kernel_size=2, stride=2\n",
    "        )\n",
    "        self.up_convolution_3 = double_convolution(256, 128)\n",
    "        self.up_transpose_4 = nn.ConvTranspose2d(\n",
    "            in_channels=128, out_channels=64, kernel_size=2, stride=2\n",
    "        )\n",
    "        self.up_convolution_4 = double_convolution(128, 64)\n",
    "\n",
    "        self.out = nn.Conv2d(in_channels=64, out_channels=num_classes, kernel_size=1)\n",
    "\n",
    "    def forward(self, x):\n",
    "        down_1 = self.down_convolution_1(x)\n",
    "        down_2 = self.max_pool2d(down_1)\n",
    "        down_3 = self.down_convolution_2(down_2)\n",
    "        down_4 = self.max_pool2d(down_3)\n",
    "        down_5 = self.down_convolution_3(down_4)\n",
    "        down_6 = self.max_pool2d(down_5)\n",
    "        down_7 = self.down_convolution_4(down_6)\n",
    "        down_8 = self.max_pool2d(down_7)\n",
    "        down_9 = self.down_convolution_5(down_8)\n",
    "\n",
    "        up_1 = self.up_transpose_1(down_9)\n",
    "        x = self.up_convolution_1(torch.cat([down_7, up_1], 1))\n",
    "        up_2 = self.up_transpose_2(x)\n",
    "        x = self.up_convolution_2(torch.cat([down_5, up_2], 1))\n",
    "        up_3 = self.up_transpose_3(x)\n",
    "        x = self.up_convolution_3(torch.cat([down_3, up_3], 1))\n",
    "        up_4 = self.up_transpose_4(x)\n",
    "        x = self.up_convolution_4(torch.cat([down_1, up_4], 1))\n",
    "        out = self.out(x)\n",
    "        return out"
   ]
  },
  {
   "cell_type": "code",
   "execution_count": 4,
   "metadata": {},
   "outputs": [
    {
     "name": "stdout",
     "output_type": "stream",
     "text": [
      "31,032,330 total parameters.\n",
      "31,032,330 training parameters.\n",
      "torch.Size([1, 10, 512, 512])\n"
     ]
    }
   ],
   "source": [
    "input_image = torch.rand((1, 3, 512, 512))\n",
    "model = UNet(num_classes=10)\n",
    "total_params = sum(p.numel() for p in model.parameters())\n",
    "print(f\"{total_params:,} total parameters.\")\n",
    "total_trainable_params = sum(p.numel() for p in model.parameters() if p.requires_grad)\n",
    "print(f\"{total_trainable_params:,} training parameters.\")\n",
    "outputs = model(input_image)\n",
    "print(outputs.shape)"
   ]
  },
  {
   "cell_type": "code",
   "execution_count": null,
   "metadata": {},
   "outputs": [],
   "source": []
  }
 ],
 "metadata": {
  "kernelspec": {
   "display_name": "venv",
   "language": "python",
   "name": "python3"
  },
  "language_info": {
   "codemirror_mode": {
    "name": "ipython",
    "version": 3
   },
   "file_extension": ".py",
   "mimetype": "text/x-python",
   "name": "python",
   "nbconvert_exporter": "python",
   "pygments_lexer": "ipython3",
   "version": "3.11.3"
  },
  "orig_nbformat": 4
 },
 "nbformat": 4,
 "nbformat_minor": 2
}
